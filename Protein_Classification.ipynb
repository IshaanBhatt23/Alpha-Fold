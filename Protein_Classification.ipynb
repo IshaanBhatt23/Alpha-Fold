{
  "nbformat": 4,
  "nbformat_minor": 0,
  "metadata": {
    "colab": {
      "provenance": [],
      "gpuType": "T4"
    },
    "kernelspec": {
      "name": "python3",
      "display_name": "Python 3"
    },
    "language_info": {
      "name": "python"
    },
    "accelerator": "GPU"
  },
  "cells": [
    {
      "cell_type": "code",
      "source": [
        "import pandas as pd\n",
        "from sklearn.feature_extraction.text import CountVectorizer\n",
        "from sklearn.neighbors import NearestNeighbors\n",
        "from sklearn.preprocessing import LabelEncoder\n",
        "import numpy as np\n",
        "\n",
        "DATA_FILE = \"/content/drive/MyDrive/Hackathon/fine mast data.csv\"\n",
        "KMER_SIZE = 2\n",
        "TOP_N = 3\n",
        "SIM_THRESHOLD = 0.3\n",
        "df = pd.read_csv(DATA_FILE)\n",
        "\n",
        "seq_cols = df.columns[1:6]\n",
        "long_df = df.melt(id_vars=[df.columns[0]], value_vars=seq_cols,\n",
        "                  var_name=\"source_col\", value_name=\"sequence\")\n",
        "long_df.dropna(subset=[\"sequence\"], inplace=True)\n",
        "long_df[\"sequence\"] = long_df[\"sequence\"].astype(str).str.strip()\n",
        "long_df = long_df[long_df[\"sequence\"] != \"\"]\n",
        "\n",
        "def kmer_split(seq, k=2):\n",
        "    return [seq[i:i+k] for i in range(len(seq) - k + 1)] if len(seq) >= k else [seq]\n",
        "\n",
        "vectorizer = CountVectorizer(analyzer=lambda x: kmer_split(x, KMER_SIZE))\n",
        "X = vectorizer.fit_transform(long_df[\"sequence\"])\n",
        "\n",
        "nn = NearestNeighbors(n_neighbors=TOP_N, metric=\"cosine\")\n",
        "nn.fit(X)\n",
        "def predict_sequence(seq):\n",
        "    vec = vectorizer.transform([seq])\n",
        "    distances, indices = nn.kneighbors(vec)\n",
        "    similarities = 1 - distances[0]\n",
        "\n",
        "    results = []\n",
        "    for idx, sim in zip(indices[0], similarities):\n",
        "        results.append({\n",
        "            \"ID\": long_df.iloc[idx, 0],\n",
        "            \"Similarity\": round(float(sim), 3)\n",
        "        })\n",
        "    if results[0][\"Similarity\"] < SIM_THRESHOLD:\n",
        "        return \"Unknown\", results\n",
        "\n",
        "    return results[0][\"ID\"], results\n",
        "user_seq = input(\"Enter sequence: \").strip()\n",
        "best_id, matches = predict_sequence(user_seq)\n",
        "\n",
        "print(\"\\nBest Match:\", best_id)\n",
        "print(\"\\nTop Matches:\")\n",
        "for m in matches:\n",
        "    print(f\"{m['ID']}  | Similarity: {m['Similarity']}\")"
      ],
      "metadata": {
        "colab": {
          "base_uri": "https://localhost:8080/"
        },
        "id": "2nF1p3XdoMDd",
        "outputId": "259b395b-6ba1-4d1d-ddb3-7da6e64461a0"
      },
      "execution_count": 29,
      "outputs": [
        {
          "output_type": "stream",
          "name": "stdout",
          "text": [
            "Enter sequence: dccsyedrreirhiwddvwsssftdrrvaivravfddlfkhyptskalfervkidepesgefkshlvrvanglkllinllddtlvlqshlghladqhiqrkgvtkeyfrgigeafarvlpqvlscfnvdawnrcfhrlvariakdl\n",
            "\n",
            "Best Match: d1x9fa_ a.1.1.2 (A:) Extracellular dodecameric hemoglobin (erythrocruorin)\n",
            "\n",
            "Top Matches:\n",
            "d1x9fa_ a.1.1.2 (A:) Extracellular dodecameric hemoglobin (erythrocruorin)  | Similarity: 0.998\n",
            "d1blxa_ d.144.1.7 (A:) Cyclin-dependent PK  | Similarity: 0.548\n",
            "d2btva_ e.28.1.1 (A:) BTV vp3 {Bluetongue virus  | Similarity: 0.547\n"
          ]
        }
      ]
    }
  ]
}